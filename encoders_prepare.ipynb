{
 "cells": [
  {
   "cell_type": "code",
   "execution_count": 3,
   "id": "c8545928-c204-4f45-affe-1a82454aa371",
   "metadata": {
    "pycharm": {
     "is_executing": true
    },
    "tags": []
   },
   "outputs": [],
   "source": [
    "import pickle\n",
    "\n",
    "import pandas as pd\n",
    "from tqdm.auto import tqdm"
   ]
  },
  {
   "cell_type": "code",
   "execution_count": 4,
   "id": "fd1c06aa",
   "metadata": {
    "collapsed": false,
    "jupyter": {
     "outputs_hidden": false
    },
    "tags": []
   },
   "outputs": [],
   "source": [
    "tqdm.pandas()"
   ]
  },
  {
   "cell_type": "code",
   "execution_count": 5,
   "id": "2a728412-626a-418a-af4d-7192e4b44be6",
   "metadata": {
    "collapsed": false,
    "jupyter": {
     "outputs_hidden": false
    },
    "tags": []
   },
   "outputs": [],
   "source": [
    "df = pd.read_parquet('data/df_pico_mapped.pqt', engine='fastparquet')"
   ]
  },
  {
   "cell_type": "code",
   "execution_count": 6,
   "id": "00aef2c4",
   "metadata": {
    "collapsed": false,
    "jupyter": {
     "outputs_hidden": false
    },
    "tags": []
   },
   "outputs": [],
   "source": [
    "train = pd.read_parquet('data/train_split.pqt')"
   ]
  },
  {
   "cell_type": "code",
   "execution_count": 7,
   "id": "b5c10b2b",
   "metadata": {
    "collapsed": false,
    "jupyter": {
     "outputs_hidden": false
    },
    "tags": []
   },
   "outputs": [],
   "source": [
    "from age_groups import age_to_group\n",
    "\n",
    "train['age'] = train['age'].apply(age_to_group)"
   ]
  },
  {
   "cell_type": "code",
   "execution_count": 8,
   "id": "54a8cc14",
   "metadata": {
    "collapsed": false,
    "jupyter": {
     "outputs_hidden": false
    },
    "tags": []
   },
   "outputs": [],
   "source": [
    "idx_to_age = train['age'].to_dict()\n",
    "idx_to_male = train['is_male'].to_dict()"
   ]
  },
  {
   "cell_type": "code",
   "execution_count": 9,
   "id": "c09d27f0",
   "metadata": {
    "collapsed": false,
    "jupyter": {
     "outputs_hidden": false
    },
    "pycharm": {
     "is_executing": true
    },
    "tags": []
   },
   "outputs": [],
   "source": [
    "df = df[df['user_id'].isin(train.index)]"
   ]
  },
  {
   "cell_type": "code",
   "execution_count": 10,
   "id": "c1a4cb6c",
   "metadata": {
    "collapsed": false,
    "jupyter": {
     "outputs_hidden": false
    },
    "tags": []
   },
   "outputs": [
    {
     "data": {
      "text/plain": [
       "defaultdict(<function __main__.<lambda>()>, {})"
      ]
     },
     "execution_count": 10,
     "metadata": {},
     "output_type": "execute_result"
    }
   ],
   "source": [
    "from collections import defaultdict\n",
    "\n",
    "occurs = defaultdict(lambda: {'age': {i: 0 for i in range(7)}, 'is_male': {True: 0, False: 0}})\n",
    "occurs"
   ]
  },
  {
   "cell_type": "code",
   "execution_count": 11,
   "id": "e42698cc",
   "metadata": {
    "collapsed": false,
    "jupyter": {
     "outputs_hidden": false
    },
    "tags": []
   },
   "outputs": [
    {
     "data": {
      "application/vnd.jupyter.widget-view+json": {
       "model_id": "586de802c27146d1b124d7fd0f8384a6",
       "version_major": 2,
       "version_minor": 0
      },
      "text/plain": [
       "0it [00:00, ?it/s]"
      ]
     },
     "metadata": {},
     "output_type": "display_data"
    }
   ],
   "source": [
    "for row in tqdm(df.itertuples()):\n",
    "    occurs[row.url_host]['age'][idx_to_age[row.user_id]] += row.request_cnt\n",
    "    occurs[row.url_host]['is_male'][idx_to_male[row.user_id]] += row.request_cnt"
   ]
  },
  {
   "cell_type": "code",
   "execution_count": 12,
   "id": "4719d9db",
   "metadata": {
    "collapsed": false,
    "jupyter": {
     "outputs_hidden": false
    },
    "tags": []
   },
   "outputs": [],
   "source": [
    "occurs = dict(occurs)"
   ]
  },
  {
   "cell_type": "code",
   "execution_count": 13,
   "id": "438fbff9",
   "metadata": {
    "collapsed": false,
    "jupyter": {
     "outputs_hidden": false
    },
    "tags": []
   },
   "outputs": [],
   "source": [
    "with open('data/statistics.pkl', 'wb') as f:\n",
    "    f.write(pickle.dumps(occurs))"
   ]
  }
 ],
 "metadata": {
  "kernelspec": {
   "display_name": "Python 3 (ipykernel)",
   "language": "python",
   "name": "python3"
  },
  "language_info": {
   "codemirror_mode": {
    "name": "ipython",
    "version": 3
   },
   "file_extension": ".py",
   "mimetype": "text/x-python",
   "name": "python",
   "nbconvert_exporter": "python",
   "pygments_lexer": "ipython3",
   "version": "3.10.9"
  }
 },
 "nbformat": 4,
 "nbformat_minor": 5
}
